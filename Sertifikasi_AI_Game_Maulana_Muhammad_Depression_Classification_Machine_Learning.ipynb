{
  "nbformat": 4,
  "nbformat_minor": 0,
  "metadata": {
    "colab": {
      "provenance": [],
      "authorship_tag": "ABX9TyNhBNTTHxxXsZUtMe65vh2u",
      "include_colab_link": true
    },
    "kernelspec": {
      "name": "python3",
      "display_name": "Python 3"
    },
    "language_info": {
      "name": "python"
    }
  },
  "cells": [
    {
      "cell_type": "markdown",
      "metadata": {
        "id": "view-in-github",
        "colab_type": "text"
      },
      "source": [
        "<a href=\"https://colab.research.google.com/github/Maoelan/Depression-Classification/blob/main/Sertifikasi_AI_Game_Maulana_Muhammad_Depression_Classification_Machine_Learning.ipynb\" target=\"_parent\"><img src=\"https://colab.research.google.com/assets/colab-badge.svg\" alt=\"Open In Colab\"/></a>"
      ]
    },
    {
      "cell_type": "markdown",
      "source": [
        "NAME : MAULANA MUHAMMAD"
      ],
      "metadata": {
        "id": "wDiUrjiJfNiP"
      }
    },
    {
      "cell_type": "code",
      "execution_count": 27,
      "metadata": {
        "id": "3_-AWP-bqOOK",
        "colab": {
          "base_uri": "https://localhost:8080/"
        },
        "outputId": "4184b724-eb20-45c5-919e-9301947daf21"
      },
      "outputs": [
        {
          "output_type": "stream",
          "name": "stdout",
          "text": [
            "Drive already mounted at /content/drive; to attempt to forcibly remount, call drive.mount(\"/content/drive\", force_remount=True).\n"
          ]
        }
      ],
      "source": [
        "#Connect to Google Drive\n",
        "from google.colab import drive\n",
        "drive.mount('/content/drive')"
      ]
    },
    {
      "cell_type": "markdown",
      "source": [
        "Datasets : https://www.kaggle.com/datasets/diegobabativa/depression"
      ],
      "metadata": {
        "id": "cu4wgo37qQNd"
      }
    },
    {
      "cell_type": "code",
      "source": [
        "#Import Library\n",
        "import pandas as pd\n",
        "import numpy as np\n",
        "import matplotlib.pyplot as plt\n",
        "import seaborn as sns\n",
        "\n",
        "from sklearn.neighbors import KNeighborsClassifier\n",
        "from sklearn.tree import DecisionTreeClassifier\n",
        "from sklearn.naive_bayes import GaussianNB\n",
        "\n",
        "from sklearn.feature_selection import SelectKBest\n",
        "from sklearn.feature_selection import chi2\n",
        "from sklearn.model_selection import train_test_split\n",
        "from sklearn.metrics import classification_report\n",
        "from sklearn.metrics import confusion_matrix, ConfusionMatrixDisplay\n",
        "from sklearn.metrics import accuracy_score\n",
        "from sklearn.metrics import plot_roc_curve"
      ],
      "metadata": {
        "id": "nW213ntyqSHN"
      },
      "execution_count": 28,
      "outputs": []
    },
    {
      "cell_type": "code",
      "source": [
        "#Load Dataset\n",
        "depression = pd.read_csv(\"/content/drive/MyDrive/dataset/b_depressed.csv\")\n",
        "depression.head()"
      ],
      "metadata": {
        "id": "sqxnhGo2qXK0",
        "colab": {
          "base_uri": "https://localhost:8080/",
          "height": 300
        },
        "outputId": "ded10f80-1105-4fbb-b15c-007ec27091ab"
      },
      "execution_count": 29,
      "outputs": [
        {
          "output_type": "execute_result",
          "data": {
            "text/plain": [
              "   Survey_id  Ville_id  sex  Age  Married  Number_children  education_level  \\\n",
              "0        926        91    1   28        1                4               10   \n",
              "1        747        57    1   23        1                3                8   \n",
              "2       1190       115    1   22        1                3                9   \n",
              "3       1065        97    1   27        1                2               10   \n",
              "4        806        42    0   59        0                4               10   \n",
              "\n",
              "   total_members  gained_asset  durable_asset  ...  incoming_salary  \\\n",
              "0              5      28912201       22861940  ...                0   \n",
              "1              5      28912201       22861940  ...                0   \n",
              "2              5      28912201       22861940  ...                0   \n",
              "3              4      52667108       19698904  ...                0   \n",
              "4              6      82606287       17352654  ...                1   \n",
              "\n",
              "   incoming_own_farm  incoming_business  incoming_no_business  \\\n",
              "0                  0                  0                     0   \n",
              "1                  0                  0                     0   \n",
              "2                  0                  0                     0   \n",
              "3                  1                  0                     1   \n",
              "4                  0                  0                     0   \n",
              "\n",
              "   incoming_agricultural  farm_expenses  labor_primary  lasting_investment  \\\n",
              "0               30028818       31363432              0            28411718   \n",
              "1               30028818       31363432              0            28411718   \n",
              "2               30028818       31363432              0            28411718   \n",
              "3               22288055       18751329              0             7781123   \n",
              "4               53384566       20731006              1            20100562   \n",
              "\n",
              "   no_lasting_investmen  depressed  \n",
              "0            28292707.0          0  \n",
              "1            28292707.0          1  \n",
              "2            28292707.0          0  \n",
              "3            69219765.0          0  \n",
              "4            43419447.0          0  \n",
              "\n",
              "[5 rows x 23 columns]"
            ],
            "text/html": [
              "\n",
              "  <div id=\"df-b2081f99-25c7-42bb-a15d-5f5e3158f5c8\">\n",
              "    <div class=\"colab-df-container\">\n",
              "      <div>\n",
              "<style scoped>\n",
              "    .dataframe tbody tr th:only-of-type {\n",
              "        vertical-align: middle;\n",
              "    }\n",
              "\n",
              "    .dataframe tbody tr th {\n",
              "        vertical-align: top;\n",
              "    }\n",
              "\n",
              "    .dataframe thead th {\n",
              "        text-align: right;\n",
              "    }\n",
              "</style>\n",
              "<table border=\"1\" class=\"dataframe\">\n",
              "  <thead>\n",
              "    <tr style=\"text-align: right;\">\n",
              "      <th></th>\n",
              "      <th>Survey_id</th>\n",
              "      <th>Ville_id</th>\n",
              "      <th>sex</th>\n",
              "      <th>Age</th>\n",
              "      <th>Married</th>\n",
              "      <th>Number_children</th>\n",
              "      <th>education_level</th>\n",
              "      <th>total_members</th>\n",
              "      <th>gained_asset</th>\n",
              "      <th>durable_asset</th>\n",
              "      <th>...</th>\n",
              "      <th>incoming_salary</th>\n",
              "      <th>incoming_own_farm</th>\n",
              "      <th>incoming_business</th>\n",
              "      <th>incoming_no_business</th>\n",
              "      <th>incoming_agricultural</th>\n",
              "      <th>farm_expenses</th>\n",
              "      <th>labor_primary</th>\n",
              "      <th>lasting_investment</th>\n",
              "      <th>no_lasting_investmen</th>\n",
              "      <th>depressed</th>\n",
              "    </tr>\n",
              "  </thead>\n",
              "  <tbody>\n",
              "    <tr>\n",
              "      <th>0</th>\n",
              "      <td>926</td>\n",
              "      <td>91</td>\n",
              "      <td>1</td>\n",
              "      <td>28</td>\n",
              "      <td>1</td>\n",
              "      <td>4</td>\n",
              "      <td>10</td>\n",
              "      <td>5</td>\n",
              "      <td>28912201</td>\n",
              "      <td>22861940</td>\n",
              "      <td>...</td>\n",
              "      <td>0</td>\n",
              "      <td>0</td>\n",
              "      <td>0</td>\n",
              "      <td>0</td>\n",
              "      <td>30028818</td>\n",
              "      <td>31363432</td>\n",
              "      <td>0</td>\n",
              "      <td>28411718</td>\n",
              "      <td>28292707.0</td>\n",
              "      <td>0</td>\n",
              "    </tr>\n",
              "    <tr>\n",
              "      <th>1</th>\n",
              "      <td>747</td>\n",
              "      <td>57</td>\n",
              "      <td>1</td>\n",
              "      <td>23</td>\n",
              "      <td>1</td>\n",
              "      <td>3</td>\n",
              "      <td>8</td>\n",
              "      <td>5</td>\n",
              "      <td>28912201</td>\n",
              "      <td>22861940</td>\n",
              "      <td>...</td>\n",
              "      <td>0</td>\n",
              "      <td>0</td>\n",
              "      <td>0</td>\n",
              "      <td>0</td>\n",
              "      <td>30028818</td>\n",
              "      <td>31363432</td>\n",
              "      <td>0</td>\n",
              "      <td>28411718</td>\n",
              "      <td>28292707.0</td>\n",
              "      <td>1</td>\n",
              "    </tr>\n",
              "    <tr>\n",
              "      <th>2</th>\n",
              "      <td>1190</td>\n",
              "      <td>115</td>\n",
              "      <td>1</td>\n",
              "      <td>22</td>\n",
              "      <td>1</td>\n",
              "      <td>3</td>\n",
              "      <td>9</td>\n",
              "      <td>5</td>\n",
              "      <td>28912201</td>\n",
              "      <td>22861940</td>\n",
              "      <td>...</td>\n",
              "      <td>0</td>\n",
              "      <td>0</td>\n",
              "      <td>0</td>\n",
              "      <td>0</td>\n",
              "      <td>30028818</td>\n",
              "      <td>31363432</td>\n",
              "      <td>0</td>\n",
              "      <td>28411718</td>\n",
              "      <td>28292707.0</td>\n",
              "      <td>0</td>\n",
              "    </tr>\n",
              "    <tr>\n",
              "      <th>3</th>\n",
              "      <td>1065</td>\n",
              "      <td>97</td>\n",
              "      <td>1</td>\n",
              "      <td>27</td>\n",
              "      <td>1</td>\n",
              "      <td>2</td>\n",
              "      <td>10</td>\n",
              "      <td>4</td>\n",
              "      <td>52667108</td>\n",
              "      <td>19698904</td>\n",
              "      <td>...</td>\n",
              "      <td>0</td>\n",
              "      <td>1</td>\n",
              "      <td>0</td>\n",
              "      <td>1</td>\n",
              "      <td>22288055</td>\n",
              "      <td>18751329</td>\n",
              "      <td>0</td>\n",
              "      <td>7781123</td>\n",
              "      <td>69219765.0</td>\n",
              "      <td>0</td>\n",
              "    </tr>\n",
              "    <tr>\n",
              "      <th>4</th>\n",
              "      <td>806</td>\n",
              "      <td>42</td>\n",
              "      <td>0</td>\n",
              "      <td>59</td>\n",
              "      <td>0</td>\n",
              "      <td>4</td>\n",
              "      <td>10</td>\n",
              "      <td>6</td>\n",
              "      <td>82606287</td>\n",
              "      <td>17352654</td>\n",
              "      <td>...</td>\n",
              "      <td>1</td>\n",
              "      <td>0</td>\n",
              "      <td>0</td>\n",
              "      <td>0</td>\n",
              "      <td>53384566</td>\n",
              "      <td>20731006</td>\n",
              "      <td>1</td>\n",
              "      <td>20100562</td>\n",
              "      <td>43419447.0</td>\n",
              "      <td>0</td>\n",
              "    </tr>\n",
              "  </tbody>\n",
              "</table>\n",
              "<p>5 rows × 23 columns</p>\n",
              "</div>\n",
              "      <button class=\"colab-df-convert\" onclick=\"convertToInteractive('df-b2081f99-25c7-42bb-a15d-5f5e3158f5c8')\"\n",
              "              title=\"Convert this dataframe to an interactive table.\"\n",
              "              style=\"display:none;\">\n",
              "        \n",
              "  <svg xmlns=\"http://www.w3.org/2000/svg\" height=\"24px\"viewBox=\"0 0 24 24\"\n",
              "       width=\"24px\">\n",
              "    <path d=\"M0 0h24v24H0V0z\" fill=\"none\"/>\n",
              "    <path d=\"M18.56 5.44l.94 2.06.94-2.06 2.06-.94-2.06-.94-.94-2.06-.94 2.06-2.06.94zm-11 1L8.5 8.5l.94-2.06 2.06-.94-2.06-.94L8.5 2.5l-.94 2.06-2.06.94zm10 10l.94 2.06.94-2.06 2.06-.94-2.06-.94-.94-2.06-.94 2.06-2.06.94z\"/><path d=\"M17.41 7.96l-1.37-1.37c-.4-.4-.92-.59-1.43-.59-.52 0-1.04.2-1.43.59L10.3 9.45l-7.72 7.72c-.78.78-.78 2.05 0 2.83L4 21.41c.39.39.9.59 1.41.59.51 0 1.02-.2 1.41-.59l7.78-7.78 2.81-2.81c.8-.78.8-2.07 0-2.86zM5.41 20L4 18.59l7.72-7.72 1.47 1.35L5.41 20z\"/>\n",
              "  </svg>\n",
              "      </button>\n",
              "      \n",
              "  <style>\n",
              "    .colab-df-container {\n",
              "      display:flex;\n",
              "      flex-wrap:wrap;\n",
              "      gap: 12px;\n",
              "    }\n",
              "\n",
              "    .colab-df-convert {\n",
              "      background-color: #E8F0FE;\n",
              "      border: none;\n",
              "      border-radius: 50%;\n",
              "      cursor: pointer;\n",
              "      display: none;\n",
              "      fill: #1967D2;\n",
              "      height: 32px;\n",
              "      padding: 0 0 0 0;\n",
              "      width: 32px;\n",
              "    }\n",
              "\n",
              "    .colab-df-convert:hover {\n",
              "      background-color: #E2EBFA;\n",
              "      box-shadow: 0px 1px 2px rgba(60, 64, 67, 0.3), 0px 1px 3px 1px rgba(60, 64, 67, 0.15);\n",
              "      fill: #174EA6;\n",
              "    }\n",
              "\n",
              "    [theme=dark] .colab-df-convert {\n",
              "      background-color: #3B4455;\n",
              "      fill: #D2E3FC;\n",
              "    }\n",
              "\n",
              "    [theme=dark] .colab-df-convert:hover {\n",
              "      background-color: #434B5C;\n",
              "      box-shadow: 0px 1px 3px 1px rgba(0, 0, 0, 0.15);\n",
              "      filter: drop-shadow(0px 1px 2px rgba(0, 0, 0, 0.3));\n",
              "      fill: #FFFFFF;\n",
              "    }\n",
              "  </style>\n",
              "\n",
              "      <script>\n",
              "        const buttonEl =\n",
              "          document.querySelector('#df-b2081f99-25c7-42bb-a15d-5f5e3158f5c8 button.colab-df-convert');\n",
              "        buttonEl.style.display =\n",
              "          google.colab.kernel.accessAllowed ? 'block' : 'none';\n",
              "\n",
              "        async function convertToInteractive(key) {\n",
              "          const element = document.querySelector('#df-b2081f99-25c7-42bb-a15d-5f5e3158f5c8');\n",
              "          const dataTable =\n",
              "            await google.colab.kernel.invokeFunction('convertToInteractive',\n",
              "                                                     [key], {});\n",
              "          if (!dataTable) return;\n",
              "\n",
              "          const docLinkHtml = 'Like what you see? Visit the ' +\n",
              "            '<a target=\"_blank\" href=https://colab.research.google.com/notebooks/data_table.ipynb>data table notebook</a>'\n",
              "            + ' to learn more about interactive tables.';\n",
              "          element.innerHTML = '';\n",
              "          dataTable['output_type'] = 'display_data';\n",
              "          await google.colab.output.renderOutput(dataTable, element);\n",
              "          const docLink = document.createElement('div');\n",
              "          docLink.innerHTML = docLinkHtml;\n",
              "          element.appendChild(docLink);\n",
              "        }\n",
              "      </script>\n",
              "    </div>\n",
              "  </div>\n",
              "  "
            ]
          },
          "metadata": {},
          "execution_count": 29
        }
      ]
    },
    {
      "cell_type": "markdown",
      "source": [
        "**PREPROCESSING DATA**"
      ],
      "metadata": {
        "id": "rWqh6PquqZgl"
      }
    },
    {
      "cell_type": "code",
      "source": [
        "#Check missing value\n",
        "print(depression.isnull().sum())"
      ],
      "metadata": {
        "id": "dEsABBc-qa6H",
        "colab": {
          "base_uri": "https://localhost:8080/"
        },
        "outputId": "98f1e724-159e-4018-d8b6-0e1d65c79420"
      },
      "execution_count": 30,
      "outputs": [
        {
          "output_type": "stream",
          "name": "stdout",
          "text": [
            "Survey_id                 0\n",
            "Ville_id                  0\n",
            "sex                       0\n",
            "Age                       0\n",
            "Married                   0\n",
            "Number_children           0\n",
            "education_level           0\n",
            "total_members             0\n",
            "gained_asset              0\n",
            "durable_asset             0\n",
            "save_asset                0\n",
            "living_expenses           0\n",
            "other_expenses            0\n",
            "incoming_salary           0\n",
            "incoming_own_farm         0\n",
            "incoming_business         0\n",
            "incoming_no_business      0\n",
            "incoming_agricultural     0\n",
            "farm_expenses             0\n",
            "labor_primary             0\n",
            "lasting_investment        0\n",
            "no_lasting_investmen     20\n",
            "depressed                 0\n",
            "dtype: int64\n"
          ]
        }
      ]
    },
    {
      "cell_type": "code",
      "source": [
        "#Drop missing value\n",
        "depression = depression.dropna()"
      ],
      "metadata": {
        "id": "4N9i37NUqchV"
      },
      "execution_count": 31,
      "outputs": []
    },
    {
      "cell_type": "code",
      "source": [
        "#Check missing value\n",
        "print(depression.isnull().sum())"
      ],
      "metadata": {
        "id": "5fDcdEBhqd1t",
        "colab": {
          "base_uri": "https://localhost:8080/"
        },
        "outputId": "b7eebe0f-a7f2-49f4-91f4-18e16106668f"
      },
      "execution_count": 32,
      "outputs": [
        {
          "output_type": "stream",
          "name": "stdout",
          "text": [
            "Survey_id                0\n",
            "Ville_id                 0\n",
            "sex                      0\n",
            "Age                      0\n",
            "Married                  0\n",
            "Number_children          0\n",
            "education_level          0\n",
            "total_members            0\n",
            "gained_asset             0\n",
            "durable_asset            0\n",
            "save_asset               0\n",
            "living_expenses          0\n",
            "other_expenses           0\n",
            "incoming_salary          0\n",
            "incoming_own_farm        0\n",
            "incoming_business        0\n",
            "incoming_no_business     0\n",
            "incoming_agricultural    0\n",
            "farm_expenses            0\n",
            "labor_primary            0\n",
            "lasting_investment       0\n",
            "no_lasting_investmen     0\n",
            "depressed                0\n",
            "dtype: int64\n"
          ]
        }
      ]
    },
    {
      "cell_type": "code",
      "source": [
        "depression['sex'].value_counts()"
      ],
      "metadata": {
        "id": "PWlorJ6dqfI0",
        "colab": {
          "base_uri": "https://localhost:8080/"
        },
        "outputId": "b739d3c8-5ccb-4027-b7d4-e59808c2ce81"
      },
      "execution_count": 33,
      "outputs": [
        {
          "output_type": "execute_result",
          "data": {
            "text/plain": [
              "1    1294\n",
              "0     115\n",
              "Name: sex, dtype: int64"
            ]
          },
          "metadata": {},
          "execution_count": 33
        }
      ]
    },
    {
      "cell_type": "code",
      "source": [
        "#Drop Feature\n",
        "depression.drop(columns=[\"Survey_id\",\"Ville_id\"], inplace=True)\n",
        "depression"
      ],
      "metadata": {
        "id": "kSgnd8JZqgK8",
        "colab": {
          "base_uri": "https://localhost:8080/",
          "height": 488
        },
        "outputId": "a42c6919-edc9-46c8-aa46-bdf9686a23b7"
      },
      "execution_count": 34,
      "outputs": [
        {
          "output_type": "execute_result",
          "data": {
            "text/plain": [
              "      sex  Age  Married  Number_children  education_level  total_members  \\\n",
              "0       1   28        1                4               10              5   \n",
              "1       1   23        1                3                8              5   \n",
              "2       1   22        1                3                9              5   \n",
              "3       1   27        1                2               10              4   \n",
              "4       0   59        0                4               10              6   \n",
              "...   ...  ...      ...              ...              ...            ...   \n",
              "1424    1   25        1                1                7              5   \n",
              "1425    1   28        1                4               10              6   \n",
              "1426    1   66        0                0                1              1   \n",
              "1427    1   51        1                1               12              5   \n",
              "1428    1   33        0                4                8              5   \n",
              "\n",
              "      gained_asset  durable_asset  save_asset  living_expenses  ...  \\\n",
              "0         28912201       22861940    23399979         26692283  ...   \n",
              "1         28912201       22861940    23399979         26692283  ...   \n",
              "2         28912201       22861940    23399979         26692283  ...   \n",
              "3         52667108       19698904    49647648           397715  ...   \n",
              "4         82606287       17352654    23399979         80877619  ...   \n",
              "...            ...            ...         ...              ...  ...   \n",
              "1424      28912201       22861940    23399979         26692283  ...   \n",
              "1425      15711078       24023054    15506558         10476722  ...   \n",
              "1426      42440731       22861940    22562605         12545372  ...   \n",
              "1427      28912201       22861940    23399979         26692283  ...   \n",
              "1428      81678391       22861940    47855984         10289875  ...   \n",
              "\n",
              "      incoming_salary  incoming_own_farm  incoming_business  \\\n",
              "0                   0                  0                  0   \n",
              "1                   0                  0                  0   \n",
              "2                   0                  0                  0   \n",
              "3                   0                  1                  0   \n",
              "4                   1                  0                  0   \n",
              "...               ...                ...                ...   \n",
              "1424                0                  0                  0   \n",
              "1425                0                  1                  0   \n",
              "1426                0                  1                  0   \n",
              "1427                0                  0                  0   \n",
              "1428                0                  1                  0   \n",
              "\n",
              "      incoming_no_business  incoming_agricultural  farm_expenses  \\\n",
              "0                        0               30028818       31363432   \n",
              "1                        0               30028818       31363432   \n",
              "2                        0               30028818       31363432   \n",
              "3                        1               22288055       18751329   \n",
              "4                        0               53384566       20731006   \n",
              "...                    ...                    ...            ...   \n",
              "1424                     0               30028818       31363432   \n",
              "1425                     0               23022095        1021536   \n",
              "1426                     0               12545373       10454478   \n",
              "1427                     0               30028818       31363432   \n",
              "1428                     1               20019212       16682677   \n",
              "\n",
              "      labor_primary  lasting_investment  no_lasting_investmen  depressed  \n",
              "0                 0            28411718            28292707.0          0  \n",
              "1                 0            28411718            28292707.0          1  \n",
              "2                 0            28411718            28292707.0          0  \n",
              "3                 0             7781123            69219765.0          0  \n",
              "4                 1            20100562            43419447.0          0  \n",
              "...             ...                 ...                   ...        ...  \n",
              "1424              0            28411718            28292707.0          0  \n",
              "1425              0             1823477            47384361.0          0  \n",
              "1426              0            46444572            10454478.0          1  \n",
              "1427              0            28411718            28292707.0          0  \n",
              "1428              0            69642126            13012488.0          0  \n",
              "\n",
              "[1409 rows x 21 columns]"
            ],
            "text/html": [
              "\n",
              "  <div id=\"df-646fffe6-d805-4aad-baf9-eb4b39f8311e\">\n",
              "    <div class=\"colab-df-container\">\n",
              "      <div>\n",
              "<style scoped>\n",
              "    .dataframe tbody tr th:only-of-type {\n",
              "        vertical-align: middle;\n",
              "    }\n",
              "\n",
              "    .dataframe tbody tr th {\n",
              "        vertical-align: top;\n",
              "    }\n",
              "\n",
              "    .dataframe thead th {\n",
              "        text-align: right;\n",
              "    }\n",
              "</style>\n",
              "<table border=\"1\" class=\"dataframe\">\n",
              "  <thead>\n",
              "    <tr style=\"text-align: right;\">\n",
              "      <th></th>\n",
              "      <th>sex</th>\n",
              "      <th>Age</th>\n",
              "      <th>Married</th>\n",
              "      <th>Number_children</th>\n",
              "      <th>education_level</th>\n",
              "      <th>total_members</th>\n",
              "      <th>gained_asset</th>\n",
              "      <th>durable_asset</th>\n",
              "      <th>save_asset</th>\n",
              "      <th>living_expenses</th>\n",
              "      <th>...</th>\n",
              "      <th>incoming_salary</th>\n",
              "      <th>incoming_own_farm</th>\n",
              "      <th>incoming_business</th>\n",
              "      <th>incoming_no_business</th>\n",
              "      <th>incoming_agricultural</th>\n",
              "      <th>farm_expenses</th>\n",
              "      <th>labor_primary</th>\n",
              "      <th>lasting_investment</th>\n",
              "      <th>no_lasting_investmen</th>\n",
              "      <th>depressed</th>\n",
              "    </tr>\n",
              "  </thead>\n",
              "  <tbody>\n",
              "    <tr>\n",
              "      <th>0</th>\n",
              "      <td>1</td>\n",
              "      <td>28</td>\n",
              "      <td>1</td>\n",
              "      <td>4</td>\n",
              "      <td>10</td>\n",
              "      <td>5</td>\n",
              "      <td>28912201</td>\n",
              "      <td>22861940</td>\n",
              "      <td>23399979</td>\n",
              "      <td>26692283</td>\n",
              "      <td>...</td>\n",
              "      <td>0</td>\n",
              "      <td>0</td>\n",
              "      <td>0</td>\n",
              "      <td>0</td>\n",
              "      <td>30028818</td>\n",
              "      <td>31363432</td>\n",
              "      <td>0</td>\n",
              "      <td>28411718</td>\n",
              "      <td>28292707.0</td>\n",
              "      <td>0</td>\n",
              "    </tr>\n",
              "    <tr>\n",
              "      <th>1</th>\n",
              "      <td>1</td>\n",
              "      <td>23</td>\n",
              "      <td>1</td>\n",
              "      <td>3</td>\n",
              "      <td>8</td>\n",
              "      <td>5</td>\n",
              "      <td>28912201</td>\n",
              "      <td>22861940</td>\n",
              "      <td>23399979</td>\n",
              "      <td>26692283</td>\n",
              "      <td>...</td>\n",
              "      <td>0</td>\n",
              "      <td>0</td>\n",
              "      <td>0</td>\n",
              "      <td>0</td>\n",
              "      <td>30028818</td>\n",
              "      <td>31363432</td>\n",
              "      <td>0</td>\n",
              "      <td>28411718</td>\n",
              "      <td>28292707.0</td>\n",
              "      <td>1</td>\n",
              "    </tr>\n",
              "    <tr>\n",
              "      <th>2</th>\n",
              "      <td>1</td>\n",
              "      <td>22</td>\n",
              "      <td>1</td>\n",
              "      <td>3</td>\n",
              "      <td>9</td>\n",
              "      <td>5</td>\n",
              "      <td>28912201</td>\n",
              "      <td>22861940</td>\n",
              "      <td>23399979</td>\n",
              "      <td>26692283</td>\n",
              "      <td>...</td>\n",
              "      <td>0</td>\n",
              "      <td>0</td>\n",
              "      <td>0</td>\n",
              "      <td>0</td>\n",
              "      <td>30028818</td>\n",
              "      <td>31363432</td>\n",
              "      <td>0</td>\n",
              "      <td>28411718</td>\n",
              "      <td>28292707.0</td>\n",
              "      <td>0</td>\n",
              "    </tr>\n",
              "    <tr>\n",
              "      <th>3</th>\n",
              "      <td>1</td>\n",
              "      <td>27</td>\n",
              "      <td>1</td>\n",
              "      <td>2</td>\n",
              "      <td>10</td>\n",
              "      <td>4</td>\n",
              "      <td>52667108</td>\n",
              "      <td>19698904</td>\n",
              "      <td>49647648</td>\n",
              "      <td>397715</td>\n",
              "      <td>...</td>\n",
              "      <td>0</td>\n",
              "      <td>1</td>\n",
              "      <td>0</td>\n",
              "      <td>1</td>\n",
              "      <td>22288055</td>\n",
              "      <td>18751329</td>\n",
              "      <td>0</td>\n",
              "      <td>7781123</td>\n",
              "      <td>69219765.0</td>\n",
              "      <td>0</td>\n",
              "    </tr>\n",
              "    <tr>\n",
              "      <th>4</th>\n",
              "      <td>0</td>\n",
              "      <td>59</td>\n",
              "      <td>0</td>\n",
              "      <td>4</td>\n",
              "      <td>10</td>\n",
              "      <td>6</td>\n",
              "      <td>82606287</td>\n",
              "      <td>17352654</td>\n",
              "      <td>23399979</td>\n",
              "      <td>80877619</td>\n",
              "      <td>...</td>\n",
              "      <td>1</td>\n",
              "      <td>0</td>\n",
              "      <td>0</td>\n",
              "      <td>0</td>\n",
              "      <td>53384566</td>\n",
              "      <td>20731006</td>\n",
              "      <td>1</td>\n",
              "      <td>20100562</td>\n",
              "      <td>43419447.0</td>\n",
              "      <td>0</td>\n",
              "    </tr>\n",
              "    <tr>\n",
              "      <th>...</th>\n",
              "      <td>...</td>\n",
              "      <td>...</td>\n",
              "      <td>...</td>\n",
              "      <td>...</td>\n",
              "      <td>...</td>\n",
              "      <td>...</td>\n",
              "      <td>...</td>\n",
              "      <td>...</td>\n",
              "      <td>...</td>\n",
              "      <td>...</td>\n",
              "      <td>...</td>\n",
              "      <td>...</td>\n",
              "      <td>...</td>\n",
              "      <td>...</td>\n",
              "      <td>...</td>\n",
              "      <td>...</td>\n",
              "      <td>...</td>\n",
              "      <td>...</td>\n",
              "      <td>...</td>\n",
              "      <td>...</td>\n",
              "      <td>...</td>\n",
              "    </tr>\n",
              "    <tr>\n",
              "      <th>1424</th>\n",
              "      <td>1</td>\n",
              "      <td>25</td>\n",
              "      <td>1</td>\n",
              "      <td>1</td>\n",
              "      <td>7</td>\n",
              "      <td>5</td>\n",
              "      <td>28912201</td>\n",
              "      <td>22861940</td>\n",
              "      <td>23399979</td>\n",
              "      <td>26692283</td>\n",
              "      <td>...</td>\n",
              "      <td>0</td>\n",
              "      <td>0</td>\n",
              "      <td>0</td>\n",
              "      <td>0</td>\n",
              "      <td>30028818</td>\n",
              "      <td>31363432</td>\n",
              "      <td>0</td>\n",
              "      <td>28411718</td>\n",
              "      <td>28292707.0</td>\n",
              "      <td>0</td>\n",
              "    </tr>\n",
              "    <tr>\n",
              "      <th>1425</th>\n",
              "      <td>1</td>\n",
              "      <td>28</td>\n",
              "      <td>1</td>\n",
              "      <td>4</td>\n",
              "      <td>10</td>\n",
              "      <td>6</td>\n",
              "      <td>15711078</td>\n",
              "      <td>24023054</td>\n",
              "      <td>15506558</td>\n",
              "      <td>10476722</td>\n",
              "      <td>...</td>\n",
              "      <td>0</td>\n",
              "      <td>1</td>\n",
              "      <td>0</td>\n",
              "      <td>0</td>\n",
              "      <td>23022095</td>\n",
              "      <td>1021536</td>\n",
              "      <td>0</td>\n",
              "      <td>1823477</td>\n",
              "      <td>47384361.0</td>\n",
              "      <td>0</td>\n",
              "    </tr>\n",
              "    <tr>\n",
              "      <th>1426</th>\n",
              "      <td>1</td>\n",
              "      <td>66</td>\n",
              "      <td>0</td>\n",
              "      <td>0</td>\n",
              "      <td>1</td>\n",
              "      <td>1</td>\n",
              "      <td>42440731</td>\n",
              "      <td>22861940</td>\n",
              "      <td>22562605</td>\n",
              "      <td>12545372</td>\n",
              "      <td>...</td>\n",
              "      <td>0</td>\n",
              "      <td>1</td>\n",
              "      <td>0</td>\n",
              "      <td>0</td>\n",
              "      <td>12545373</td>\n",
              "      <td>10454478</td>\n",
              "      <td>0</td>\n",
              "      <td>46444572</td>\n",
              "      <td>10454478.0</td>\n",
              "      <td>1</td>\n",
              "    </tr>\n",
              "    <tr>\n",
              "      <th>1427</th>\n",
              "      <td>1</td>\n",
              "      <td>51</td>\n",
              "      <td>1</td>\n",
              "      <td>1</td>\n",
              "      <td>12</td>\n",
              "      <td>5</td>\n",
              "      <td>28912201</td>\n",
              "      <td>22861940</td>\n",
              "      <td>23399979</td>\n",
              "      <td>26692283</td>\n",
              "      <td>...</td>\n",
              "      <td>0</td>\n",
              "      <td>0</td>\n",
              "      <td>0</td>\n",
              "      <td>0</td>\n",
              "      <td>30028818</td>\n",
              "      <td>31363432</td>\n",
              "      <td>0</td>\n",
              "      <td>28411718</td>\n",
              "      <td>28292707.0</td>\n",
              "      <td>0</td>\n",
              "    </tr>\n",
              "    <tr>\n",
              "      <th>1428</th>\n",
              "      <td>1</td>\n",
              "      <td>33</td>\n",
              "      <td>0</td>\n",
              "      <td>4</td>\n",
              "      <td>8</td>\n",
              "      <td>5</td>\n",
              "      <td>81678391</td>\n",
              "      <td>22861940</td>\n",
              "      <td>47855984</td>\n",
              "      <td>10289875</td>\n",
              "      <td>...</td>\n",
              "      <td>0</td>\n",
              "      <td>1</td>\n",
              "      <td>0</td>\n",
              "      <td>1</td>\n",
              "      <td>20019212</td>\n",
              "      <td>16682677</td>\n",
              "      <td>0</td>\n",
              "      <td>69642126</td>\n",
              "      <td>13012488.0</td>\n",
              "      <td>0</td>\n",
              "    </tr>\n",
              "  </tbody>\n",
              "</table>\n",
              "<p>1409 rows × 21 columns</p>\n",
              "</div>\n",
              "      <button class=\"colab-df-convert\" onclick=\"convertToInteractive('df-646fffe6-d805-4aad-baf9-eb4b39f8311e')\"\n",
              "              title=\"Convert this dataframe to an interactive table.\"\n",
              "              style=\"display:none;\">\n",
              "        \n",
              "  <svg xmlns=\"http://www.w3.org/2000/svg\" height=\"24px\"viewBox=\"0 0 24 24\"\n",
              "       width=\"24px\">\n",
              "    <path d=\"M0 0h24v24H0V0z\" fill=\"none\"/>\n",
              "    <path d=\"M18.56 5.44l.94 2.06.94-2.06 2.06-.94-2.06-.94-.94-2.06-.94 2.06-2.06.94zm-11 1L8.5 8.5l.94-2.06 2.06-.94-2.06-.94L8.5 2.5l-.94 2.06-2.06.94zm10 10l.94 2.06.94-2.06 2.06-.94-2.06-.94-.94-2.06-.94 2.06-2.06.94z\"/><path d=\"M17.41 7.96l-1.37-1.37c-.4-.4-.92-.59-1.43-.59-.52 0-1.04.2-1.43.59L10.3 9.45l-7.72 7.72c-.78.78-.78 2.05 0 2.83L4 21.41c.39.39.9.59 1.41.59.51 0 1.02-.2 1.41-.59l7.78-7.78 2.81-2.81c.8-.78.8-2.07 0-2.86zM5.41 20L4 18.59l7.72-7.72 1.47 1.35L5.41 20z\"/>\n",
              "  </svg>\n",
              "      </button>\n",
              "      \n",
              "  <style>\n",
              "    .colab-df-container {\n",
              "      display:flex;\n",
              "      flex-wrap:wrap;\n",
              "      gap: 12px;\n",
              "    }\n",
              "\n",
              "    .colab-df-convert {\n",
              "      background-color: #E8F0FE;\n",
              "      border: none;\n",
              "      border-radius: 50%;\n",
              "      cursor: pointer;\n",
              "      display: none;\n",
              "      fill: #1967D2;\n",
              "      height: 32px;\n",
              "      padding: 0 0 0 0;\n",
              "      width: 32px;\n",
              "    }\n",
              "\n",
              "    .colab-df-convert:hover {\n",
              "      background-color: #E2EBFA;\n",
              "      box-shadow: 0px 1px 2px rgba(60, 64, 67, 0.3), 0px 1px 3px 1px rgba(60, 64, 67, 0.15);\n",
              "      fill: #174EA6;\n",
              "    }\n",
              "\n",
              "    [theme=dark] .colab-df-convert {\n",
              "      background-color: #3B4455;\n",
              "      fill: #D2E3FC;\n",
              "    }\n",
              "\n",
              "    [theme=dark] .colab-df-convert:hover {\n",
              "      background-color: #434B5C;\n",
              "      box-shadow: 0px 1px 3px 1px rgba(0, 0, 0, 0.15);\n",
              "      filter: drop-shadow(0px 1px 2px rgba(0, 0, 0, 0.3));\n",
              "      fill: #FFFFFF;\n",
              "    }\n",
              "  </style>\n",
              "\n",
              "      <script>\n",
              "        const buttonEl =\n",
              "          document.querySelector('#df-646fffe6-d805-4aad-baf9-eb4b39f8311e button.colab-df-convert');\n",
              "        buttonEl.style.display =\n",
              "          google.colab.kernel.accessAllowed ? 'block' : 'none';\n",
              "\n",
              "        async function convertToInteractive(key) {\n",
              "          const element = document.querySelector('#df-646fffe6-d805-4aad-baf9-eb4b39f8311e');\n",
              "          const dataTable =\n",
              "            await google.colab.kernel.invokeFunction('convertToInteractive',\n",
              "                                                     [key], {});\n",
              "          if (!dataTable) return;\n",
              "\n",
              "          const docLinkHtml = 'Like what you see? Visit the ' +\n",
              "            '<a target=\"_blank\" href=https://colab.research.google.com/notebooks/data_table.ipynb>data table notebook</a>'\n",
              "            + ' to learn more about interactive tables.';\n",
              "          element.innerHTML = '';\n",
              "          dataTable['output_type'] = 'display_data';\n",
              "          await google.colab.output.renderOutput(dataTable, element);\n",
              "          const docLink = document.createElement('div');\n",
              "          docLink.innerHTML = docLinkHtml;\n",
              "          element.appendChild(docLink);\n",
              "        }\n",
              "      </script>\n",
              "    </div>\n",
              "  </div>\n",
              "  "
            ]
          },
          "metadata": {},
          "execution_count": 34
        }
      ]
    },
    {
      "cell_type": "code",
      "source": [
        "#Check Data Info\n",
        "depression.info()"
      ],
      "metadata": {
        "id": "IHm80_Y4qh1i",
        "colab": {
          "base_uri": "https://localhost:8080/"
        },
        "outputId": "3089d042-f36d-4f2b-ac64-eabe7c54eae6"
      },
      "execution_count": 35,
      "outputs": [
        {
          "output_type": "stream",
          "name": "stdout",
          "text": [
            "<class 'pandas.core.frame.DataFrame'>\n",
            "Int64Index: 1409 entries, 0 to 1428\n",
            "Data columns (total 21 columns):\n",
            " #   Column                 Non-Null Count  Dtype  \n",
            "---  ------                 --------------  -----  \n",
            " 0   sex                    1409 non-null   int64  \n",
            " 1   Age                    1409 non-null   int64  \n",
            " 2   Married                1409 non-null   int64  \n",
            " 3   Number_children        1409 non-null   int64  \n",
            " 4   education_level        1409 non-null   int64  \n",
            " 5   total_members          1409 non-null   int64  \n",
            " 6   gained_asset           1409 non-null   int64  \n",
            " 7   durable_asset          1409 non-null   int64  \n",
            " 8   save_asset             1409 non-null   int64  \n",
            " 9   living_expenses        1409 non-null   int64  \n",
            " 10  other_expenses         1409 non-null   int64  \n",
            " 11  incoming_salary        1409 non-null   int64  \n",
            " 12  incoming_own_farm      1409 non-null   int64  \n",
            " 13  incoming_business      1409 non-null   int64  \n",
            " 14  incoming_no_business   1409 non-null   int64  \n",
            " 15  incoming_agricultural  1409 non-null   int64  \n",
            " 16  farm_expenses          1409 non-null   int64  \n",
            " 17  labor_primary          1409 non-null   int64  \n",
            " 18  lasting_investment     1409 non-null   int64  \n",
            " 19  no_lasting_investmen   1409 non-null   float64\n",
            " 20  depressed              1409 non-null   int64  \n",
            "dtypes: float64(1), int64(20)\n",
            "memory usage: 242.2 KB\n"
          ]
        }
      ]
    },
    {
      "cell_type": "code",
      "source": [
        "#Correlation Check\n",
        "corr = depression.corr()\n",
        "plt.subplots(figsize=(20,20))\n",
        "\n",
        "sns.heatmap(corr, xticklabels=corr.columns,yticklabels=corr.columns,annot=True)"
      ],
      "metadata": {
        "id": "O_V3xe6rqjDS",
        "colab": {
          "base_uri": "https://localhost:8080/",
          "height": 911
        },
        "outputId": "87a4df5b-cc0e-4bfa-e238-e6c393fa5171"
      },
      "execution_count": 36,
      "outputs": [
        {
          "output_type": "execute_result",
          "data": {
            "text/plain": [
              "<matplotlib.axes._subplots.AxesSubplot at 0x7fe619976d30>"
            ]
          },
          "metadata": {},
          "execution_count": 36
        },
        {
          "output_type": "display_data",
          "data": {
            "text/plain": [
              "<Figure size 1440x1440 with 2 Axes>"
            ],
            "image/png": "[encoded data removed]"
          },
          "metadata": {
            "needs_background": "light"
          }
        }
      ]
    },
    {
      "cell_type": "code",
      "source": [
        "#Feature Sex Check\n",
        "sns.countplot(x = \"sex\", data = depression)"
      ],
      "metadata": {
        "colab": {
          "base_uri": "https://localhost:8080/",
          "height": 296
        },
        "id": "YjrsBGkWfco_",
        "outputId": "5418701c-fabc-4cae-fcaf-272a3741b47c"
      },
      "execution_count": 37,
      "outputs": [
        {
          "output_type": "execute_result",
          "data": {
            "text/plain": [
              "<matplotlib.axes._subplots.AxesSubplot at 0x7fe6194b3850>"
            ]
          },
          "metadata": {},
          "execution_count": 37
        },
        {
          "output_type": "display_data",
          "data": {
            "text/plain": [
              "<Figure size 432x288 with 1 Axes>"
            ],
            "image/png": "[encoded data removed]"
          },
          "metadata": {
            "needs_background": "light"
          }
        }
      ]
    },
    {
      "cell_type": "code",
      "source": [
        "#Feature Age Check\n",
        "sns.histplot(data = depression, x = \"Age\")"
      ],
      "metadata": {
        "colab": {
          "base_uri": "https://localhost:8080/",
          "height": 296
        },
        "id": "3nrA7FYPfdPE",
        "outputId": "202c342b-6385-45b2-c077-4b13e42c2a88"
      },
      "execution_count": 38,
      "outputs": [
        {
          "output_type": "execute_result",
          "data": {
            "text/plain": [
              "<matplotlib.axes._subplots.AxesSubplot at 0x7fe6194629d0>"
            ]
          },
          "metadata": {},
          "execution_count": 38
        },
        {
          "output_type": "display_data",
          "data": {
            "text/plain": [
              "<Figure size 432x288 with 1 Axes>"
            ],
            "image/png": "[encoded data removed]"
          },
          "metadata": {
            "needs_background": "light"
          }
        }
      ]
    },
    {
      "cell_type": "code",
      "source": [
        "#Feature Married Check\n",
        "sns.countplot(x = \"Married\", data = depression)"
      ],
      "metadata": {
        "colab": {
          "base_uri": "https://localhost:8080/",
          "height": 296
        },
        "id": "lddTT6WJfeH2",
        "outputId": "9b22e9a8-212c-447c-e571-9a6ec6021800"
      },
      "execution_count": 39,
      "outputs": [
        {
          "output_type": "execute_result",
          "data": {
            "text/plain": [
              "<matplotlib.axes._subplots.AxesSubplot at 0x7fe6193917f0>"
            ]
          },
          "metadata": {},
          "execution_count": 39
        },
        {
          "output_type": "display_data",
          "data": {
            "text/plain": [
              "<Figure size 432x288 with 1 Axes>"
            ],
            "image/png": "[encoded data removed]"
          },
          "metadata": {
            "needs_background": "light"
          }
        }
      ]
    },
    {
      "cell_type": "code",
      "source": [
        "#x For Feature\n",
        "x = depression.iloc[:,:20]\n",
        "x"
      ],
      "metadata": {
        "id": "T_fa1uvCqkZl",
        "colab": {
          "base_uri": "https://localhost:8080/",
          "height": 488
        },
        "outputId": "880d1d25-d473-4946-f22e-e6ad2d222c20"
      },
      "execution_count": 40,
      "outputs": [
        {
          "output_type": "execute_result",
          "data": {
            "text/plain": [
              "      sex  Age  Married  Number_children  education_level  total_members  \\\n",
              "0       1   28        1                4               10              5   \n",
              "1       1   23        1                3                8              5   \n",
              "2       1   22        1                3                9              5   \n",
              "3       1   27        1                2               10              4   \n",
              "4       0   59        0                4               10              6   \n",
              "...   ...  ...      ...              ...              ...            ...   \n",
              "1424    1   25        1                1                7              5   \n",
              "1425    1   28        1                4               10              6   \n",
              "1426    1   66        0                0                1              1   \n",
              "1427    1   51        1                1               12              5   \n",
              "1428    1   33        0                4                8              5   \n",
              "\n",
              "      gained_asset  durable_asset  save_asset  living_expenses  \\\n",
              "0         28912201       22861940    23399979         26692283   \n",
              "1         28912201       22861940    23399979         26692283   \n",
              "2         28912201       22861940    23399979         26692283   \n",
              "3         52667108       19698904    49647648           397715   \n",
              "4         82606287       17352654    23399979         80877619   \n",
              "...            ...            ...         ...              ...   \n",
              "1424      28912201       22861940    23399979         26692283   \n",
              "1425      15711078       24023054    15506558         10476722   \n",
              "1426      42440731       22861940    22562605         12545372   \n",
              "1427      28912201       22861940    23399979         26692283   \n",
              "1428      81678391       22861940    47855984         10289875   \n",
              "\n",
              "      other_expenses  incoming_salary  incoming_own_farm  incoming_business  \\\n",
              "0           28203066                0                  0                  0   \n",
              "1           28203066                0                  0                  0   \n",
              "2           28203066                0                  0                  0   \n",
              "3           44042267                0                  1                  0   \n",
              "4           74503502                1                  0                  0   \n",
              "...              ...              ...                ...                ...   \n",
              "1424        28203066                0                  0                  0   \n",
              "1425        71588707                0                  1                  0   \n",
              "1426        56534257                0                  1                  0   \n",
              "1427        28203066                0                  0                  0   \n",
              "1428        10730298                0                  1                  0   \n",
              "\n",
              "      incoming_no_business  incoming_agricultural  farm_expenses  \\\n",
              "0                        0               30028818       31363432   \n",
              "1                        0               30028818       31363432   \n",
              "2                        0               30028818       31363432   \n",
              "3                        1               22288055       18751329   \n",
              "4                        0               53384566       20731006   \n",
              "...                    ...                    ...            ...   \n",
              "1424                     0               30028818       31363432   \n",
              "1425                     0               23022095        1021536   \n",
              "1426                     0               12545373       10454478   \n",
              "1427                     0               30028818       31363432   \n",
              "1428                     1               20019212       16682677   \n",
              "\n",
              "      labor_primary  lasting_investment  no_lasting_investmen  \n",
              "0                 0            28411718            28292707.0  \n",
              "1                 0            28411718            28292707.0  \n",
              "2                 0            28411718            28292707.0  \n",
              "3                 0             7781123            69219765.0  \n",
              "4                 1            20100562            43419447.0  \n",
              "...             ...                 ...                   ...  \n",
              "1424              0            28411718            28292707.0  \n",
              "1425              0             1823477            47384361.0  \n",
              "1426              0            46444572            10454478.0  \n",
              "1427              0            28411718            28292707.0  \n",
              "1428              0            69642126            13012488.0  \n",
              "\n",
              "[1409 rows x 20 columns]"
            ],
            "text/html": [
              "\n",
              "  <div id=\"df-d100fd1b-5650-4622-ba4b-9e9e50e5c315\">\n",
              "    <div class=\"colab-df-container\">\n",
              "      <div>\n",
              "<style scoped>\n",
              "    .dataframe tbody tr th:only-of-type {\n",
              "        vertical-align: middle;\n",
              "    }\n",
              "\n",
              "    .dataframe tbody tr th {\n",
              "        vertical-align: top;\n",
              "    }\n",
              "\n",
              "    .dataframe thead th {\n",
              "        text-align: right;\n",
              "    }\n",
              "</style>\n",
              "<table border=\"1\" class=\"dataframe\">\n",
              "  <thead>\n",
              "    <tr style=\"text-align: right;\">\n",
              "      <th></th>\n",
              "      <th>sex</th>\n",
              "      <th>Age</th>\n",
              "      <th>Married</th>\n",
              "      <th>Number_children</th>\n",
              "      <th>education_level</th>\n",
              "      <th>total_members</th>\n",
              "      <th>gained_asset</th>\n",
              "      <th>durable_asset</th>\n",
              "      <th>save_asset</th>\n",
              "      <th>living_expenses</th>\n",
              "      <th>other_expenses</th>\n",
              "      <th>incoming_salary</th>\n",
              "      <th>incoming_own_farm</th>\n",
              "      <th>incoming_business</th>\n",
              "      <th>incoming_no_business</th>\n",
              "      <th>incoming_agricultural</th>\n",
              "      <th>farm_expenses</th>\n",
              "      <th>labor_primary</th>\n",
              "      <th>lasting_investment</th>\n",
              "      <th>no_lasting_investmen</th>\n",
              "    </tr>\n",
              "  </thead>\n",
              "  <tbody>\n",
              "    <tr>\n",
              "      <th>0</th>\n",
              "      <td>1</td>\n",
              "      <td>28</td>\n",
              "      <td>1</td>\n",
              "      <td>4</td>\n",
              "      <td>10</td>\n",
              "      <td>5</td>\n",
              "      <td>28912201</td>\n",
              "      <td>22861940</td>\n",
              "      <td>23399979</td>\n",
              "      <td>26692283</td>\n",
              "      <td>28203066</td>\n",
              "      <td>0</td>\n",
              "      <td>0</td>\n",
              "      <td>0</td>\n",
              "      <td>0</td>\n",
              "      <td>30028818</td>\n",
              "      <td>31363432</td>\n",
              "      <td>0</td>\n",
              "      <td>28411718</td>\n",
              "      <td>28292707.0</td>\n",
              "    </tr>\n",
              "    <tr>\n",
              "      <th>1</th>\n",
              "      <td>1</td>\n",
              "      <td>23</td>\n",
              "      <td>1</td>\n",
              "      <td>3</td>\n",
              "      <td>8</td>\n",
              "      <td>5</td>\n",
              "      <td>28912201</td>\n",
              "      <td>22861940</td>\n",
              "      <td>23399979</td>\n",
              "      <td>26692283</td>\n",
              "      <td>28203066</td>\n",
              "      <td>0</td>\n",
              "      <td>0</td>\n",
              "      <td>0</td>\n",
              "      <td>0</td>\n",
              "      <td>30028818</td>\n",
              "      <td>31363432</td>\n",
              "      <td>0</td>\n",
              "      <td>28411718</td>\n",
              "      <td>28292707.0</td>\n",
              "    </tr>\n",
              "    <tr>\n",
              "      <th>2</th>\n",
              "      <td>1</td>\n",
              "      <td>22</td>\n",
              "      <td>1</td>\n",
              "      <td>3</td>\n",
              "      <td>9</td>\n",
              "      <td>5</td>\n",
              "      <td>28912201</td>\n",
              "      <td>22861940</td>\n",
              "      <td>23399979</td>\n",
              "      <td>26692283</td>\n",
              "      <td>28203066</td>\n",
              "      <td>0</td>\n",
              "      <td>0</td>\n",
              "      <td>0</td>\n",
              "      <td>0</td>\n",
              "      <td>30028818</td>\n",
              "      <td>31363432</td>\n",
              "      <td>0</td>\n",
              "      <td>28411718</td>\n",
              "      <td>28292707.0</td>\n",
              "    </tr>\n",
              "    <tr>\n",
              "      <th>3</th>\n",
              "      <td>1</td>\n",
              "      <td>27</td>\n",
              "      <td>1</td>\n",
              "      <td>2</td>\n",
              "      <td>10</td>\n",
              "      <td>4</td>\n",
              "      <td>52667108</td>\n",
              "      <td>19698904</td>\n",
              "      <td>49647648</td>\n",
              "      <td>397715</td>\n",
              "      <td>44042267</td>\n",
              "      <td>0</td>\n",
              "      <td>1</td>\n",
              "      <td>0</td>\n",
              "      <td>1</td>\n",
              "      <td>22288055</td>\n",
              "      <td>18751329</td>\n",
              "      <td>0</td>\n",
              "      <td>7781123</td>\n",
              "      <td>69219765.0</td>\n",
              "    </tr>\n",
              "    <tr>\n",
              "      <th>4</th>\n",
              "      <td>0</td>\n",
              "      <td>59</td>\n",
              "      <td>0</td>\n",
              "      <td>4</td>\n",
              "      <td>10</td>\n",
              "      <td>6</td>\n",
              "      <td>82606287</td>\n",
              "      <td>17352654</td>\n",
              "      <td>23399979</td>\n",
              "      <td>80877619</td>\n",
              "      <td>74503502</td>\n",
              "      <td>1</td>\n",
              "      <td>0</td>\n",
              "      <td>0</td>\n",
              "      <td>0</td>\n",
              "      <td>53384566</td>\n",
              "      <td>20731006</td>\n",
              "      <td>1</td>\n",
              "      <td>20100562</td>\n",
              "      <td>43419447.0</td>\n",
              "    </tr>\n",
              "    <tr>\n",
              "      <th>...</th>\n",
              "      <td>...</td>\n",
              "      <td>...</td>\n",
              "      <td>...</td>\n",
              "      <td>...</td>\n",
              "      <td>...</td>\n",
              "      <td>...</td>\n",
              "      <td>...</td>\n",
              "      <td>...</td>\n",
              "      <td>...</td>\n",
              "      <td>...</td>\n",
              "      <td>...</td>\n",
              "      <td>...</td>\n",
              "      <td>...</td>\n",
              "      <td>...</td>\n",
              "      <td>...</td>\n",
              "      <td>...</td>\n",
              "      <td>...</td>\n",
              "      <td>...</td>\n",
              "      <td>...</td>\n",
              "      <td>...</td>\n",
              "    </tr>\n",
              "    <tr>\n",
              "      <th>1424</th>\n",
              "      <td>1</td>\n",
              "      <td>25</td>\n",
              "      <td>1</td>\n",
              "      <td>1</td>\n",
              "      <td>7</td>\n",
              "      <td>5</td>\n",
              "      <td>28912201</td>\n",
              "      <td>22861940</td>\n",
              "      <td>23399979</td>\n",
              "      <td>26692283</td>\n",
              "      <td>28203066</td>\n",
              "      <td>0</td>\n",
              "      <td>0</td>\n",
              "      <td>0</td>\n",
              "      <td>0</td>\n",
              "      <td>30028818</td>\n",
              "      <td>31363432</td>\n",
              "      <td>0</td>\n",
              "      <td>28411718</td>\n",
              "      <td>28292707.0</td>\n",
              "    </tr>\n",
              "    <tr>\n",
              "      <th>1425</th>\n",
              "      <td>1</td>\n",
              "      <td>28</td>\n",
              "      <td>1</td>\n",
              "      <td>4</td>\n",
              "      <td>10</td>\n",
              "      <td>6</td>\n",
              "      <td>15711078</td>\n",
              "      <td>24023054</td>\n",
              "      <td>15506558</td>\n",
              "      <td>10476722</td>\n",
              "      <td>71588707</td>\n",
              "      <td>0</td>\n",
              "      <td>1</td>\n",
              "      <td>0</td>\n",
              "      <td>0</td>\n",
              "      <td>23022095</td>\n",
              "      <td>1021536</td>\n",
              "      <td>0</td>\n",
              "      <td>1823477</td>\n",
              "      <td>47384361.0</td>\n",
              "    </tr>\n",
              "    <tr>\n",
              "      <th>1426</th>\n",
              "      <td>1</td>\n",
              "      <td>66</td>\n",
              "      <td>0</td>\n",
              "      <td>0</td>\n",
              "      <td>1</td>\n",
              "      <td>1</td>\n",
              "      <td>42440731</td>\n",
              "      <td>22861940</td>\n",
              "      <td>22562605</td>\n",
              "      <td>12545372</td>\n",
              "      <td>56534257</td>\n",
              "      <td>0</td>\n",
              "      <td>1</td>\n",
              "      <td>0</td>\n",
              "      <td>0</td>\n",
              "      <td>12545373</td>\n",
              "      <td>10454478</td>\n",
              "      <td>0</td>\n",
              "      <td>46444572</td>\n",
              "      <td>10454478.0</td>\n",
              "    </tr>\n",
              "    <tr>\n",
              "      <th>1427</th>\n",
              "      <td>1</td>\n",
              "      <td>51</td>\n",
              "      <td>1</td>\n",
              "      <td>1</td>\n",
              "      <td>12</td>\n",
              "      <td>5</td>\n",
              "      <td>28912201</td>\n",
              "      <td>22861940</td>\n",
              "      <td>23399979</td>\n",
              "      <td>26692283</td>\n",
              "      <td>28203066</td>\n",
              "      <td>0</td>\n",
              "      <td>0</td>\n",
              "      <td>0</td>\n",
              "      <td>0</td>\n",
              "      <td>30028818</td>\n",
              "      <td>31363432</td>\n",
              "      <td>0</td>\n",
              "      <td>28411718</td>\n",
              "      <td>28292707.0</td>\n",
              "    </tr>\n",
              "    <tr>\n",
              "      <th>1428</th>\n",
              "      <td>1</td>\n",
              "      <td>33</td>\n",
              "      <td>0</td>\n",
              "      <td>4</td>\n",
              "      <td>8</td>\n",
              "      <td>5</td>\n",
              "      <td>81678391</td>\n",
              "      <td>22861940</td>\n",
              "      <td>47855984</td>\n",
              "      <td>10289875</td>\n",
              "      <td>10730298</td>\n",
              "      <td>0</td>\n",
              "      <td>1</td>\n",
              "      <td>0</td>\n",
              "      <td>1</td>\n",
              "      <td>20019212</td>\n",
              "      <td>16682677</td>\n",
              "      <td>0</td>\n",
              "      <td>69642126</td>\n",
              "      <td>13012488.0</td>\n",
              "    </tr>\n",
              "  </tbody>\n",
              "</table>\n",
              "<p>1409 rows × 20 columns</p>\n",
              "</div>\n",
              "      <button class=\"colab-df-convert\" onclick=\"convertToInteractive('df-d100fd1b-5650-4622-ba4b-9e9e50e5c315')\"\n",
              "              title=\"Convert this dataframe to an interactive table.\"\n",
              "              style=\"display:none;\">\n",
              "        \n",
              "  <svg xmlns=\"http://www.w3.org/2000/svg\" height=\"24px\"viewBox=\"0 0 24 24\"\n",
              "       width=\"24px\">\n",
              "    <path d=\"M0 0h24v24H0V0z\" fill=\"none\"/>\n",
              "    <path d=\"M18.56 5.44l.94 2.06.94-2.06 2.06-.94-2.06-.94-.94-2.06-.94 2.06-2.06.94zm-11 1L8.5 8.5l.94-2.06 2.06-.94-2.06-.94L8.5 2.5l-.94 2.06-2.06.94zm10 10l.94 2.06.94-2.06 2.06-.94-2.06-.94-.94-2.06-.94 2.06-2.06.94z\"/><path d=\"M17.41 7.96l-1.37-1.37c-.4-.4-.92-.59-1.43-.59-.52 0-1.04.2-1.43.59L10.3 9.45l-7.72 7.72c-.78.78-.78 2.05 0 2.83L4 21.41c.39.39.9.59 1.41.59.51 0 1.02-.2 1.41-.59l7.78-7.78 2.81-2.81c.8-.78.8-2.07 0-2.86zM5.41 20L4 18.59l7.72-7.72 1.47 1.35L5.41 20z\"/>\n",
              "  </svg>\n",
              "      </button>\n",
              "      \n",
              "  <style>\n",
              "    .colab-df-container {\n",
              "      display:flex;\n",
              "      flex-wrap:wrap;\n",
              "      gap: 12px;\n",
              "    }\n",
              "\n",
              "    .colab-df-convert {\n",
              "      background-color: #E8F0FE;\n",
              "      border: none;\n",
              "      border-radius: 50%;\n",
              "      cursor: pointer;\n",
              "      display: none;\n",
              "      fill: #1967D2;\n",
              "      height: 32px;\n",
              "      padding: 0 0 0 0;\n",
              "      width: 32px;\n",
              "    }\n",
              "\n",
              "    .colab-df-convert:hover {\n",
              "      background-color: #E2EBFA;\n",
              "      box-shadow: 0px 1px 2px rgba(60, 64, 67, 0.3), 0px 1px 3px 1px rgba(60, 64, 67, 0.15);\n",
              "      fill: #174EA6;\n",
              "    }\n",
              "\n",
              "    [theme=dark] .colab-df-convert {\n",
              "      background-color: #3B4455;\n",
              "      fill: #D2E3FC;\n",
              "    }\n",
              "\n",
              "    [theme=dark] .colab-df-convert:hover {\n",
              "      background-color: #434B5C;\n",
              "      box-shadow: 0px 1px 3px 1px rgba(0, 0, 0, 0.15);\n",
              "      filter: drop-shadow(0px 1px 2px rgba(0, 0, 0, 0.3));\n",
              "      fill: #FFFFFF;\n",
              "    }\n",
              "  </style>\n",
              "\n",
              "      <script>\n",
              "        const buttonEl =\n",
              "          document.querySelector('#df-d100fd1b-5650-4622-ba4b-9e9e50e5c315 button.colab-df-convert');\n",
              "        buttonEl.style.display =\n",
              "          google.colab.kernel.accessAllowed ? 'block' : 'none';\n",
              "\n",
              "        async function convertToInteractive(key) {\n",
              "          const element = document.querySelector('#df-d100fd1b-5650-4622-ba4b-9e9e50e5c315');\n",
              "          const dataTable =\n",
              "            await google.colab.kernel.invokeFunction('convertToInteractive',\n",
              "                                                     [key], {});\n",
              "          if (!dataTable) return;\n",
              "\n",
              "          const docLinkHtml = 'Like what you see? Visit the ' +\n",
              "            '<a target=\"_blank\" href=https://colab.research.google.com/notebooks/data_table.ipynb>data table notebook</a>'\n",
              "            + ' to learn more about interactive tables.';\n",
              "          element.innerHTML = '';\n",
              "          dataTable['output_type'] = 'display_data';\n",
              "          await google.colab.output.renderOutput(dataTable, element);\n",
              "          const docLink = document.createElement('div');\n",
              "          docLink.innerHTML = docLinkHtml;\n",
              "          element.appendChild(docLink);\n",
              "        }\n",
              "      </script>\n",
              "    </div>\n",
              "  </div>\n",
              "  "
            ]
          },
          "metadata": {},
          "execution_count": 40
        }
      ]
    },
    {
      "cell_type": "code",
      "source": [
        "#y For Class\n",
        "y = depression.iloc[:,20]\n",
        "y"
      ],
      "metadata": {
        "id": "59jJ36qAqltx",
        "colab": {
          "base_uri": "https://localhost:8080/"
        },
        "outputId": "0ba9b6e0-e727-495c-da04-6dc35fe63257"
      },
      "execution_count": 41,
      "outputs": [
        {
          "output_type": "execute_result",
          "data": {
            "text/plain": [
              "0       0\n",
              "1       1\n",
              "2       0\n",
              "3       0\n",
              "4       0\n",
              "       ..\n",
              "1424    0\n",
              "1425    0\n",
              "1426    1\n",
              "1427    0\n",
              "1428    0\n",
              "Name: depressed, Length: 1409, dtype: int64"
            ]
          },
          "metadata": {},
          "execution_count": 41
        }
      ]
    },
    {
      "cell_type": "markdown",
      "source": [
        "**Splitting Data**"
      ],
      "metadata": {
        "id": "JGAMGPCNqzA_"
      }
    },
    {
      "cell_type": "code",
      "source": [
        "#Splitting data using train test split\n",
        "x_train, x_test, y_train, y_test = train_test_split(x,y,test_size=0.2,random_state=1)"
      ],
      "metadata": {
        "id": "nuWmd4Qfqzl0"
      },
      "execution_count": 42,
      "outputs": []
    },
    {
      "cell_type": "markdown",
      "source": [
        "**Modelling & Data Evaluation**"
      ],
      "metadata": {
        "id": "2HBcimFrq1NZ"
      }
    },
    {
      "cell_type": "markdown",
      "source": [
        "**Decision Tree**"
      ],
      "metadata": {
        "id": "_nZP0LfTrkRX"
      }
    },
    {
      "cell_type": "code",
      "source": [
        "#Training Decision Tree Model\n",
        "dt = DecisionTreeClassifier(criterion = \"gini\", random_state=100, max_depth=5, min_samples_leaf=5)\n",
        "dt.fit(x_train, y_train)"
      ],
      "metadata": {
        "id": "aXNLWbu7q3L8",
        "colab": {
          "base_uri": "https://localhost:8080/"
        },
        "outputId": "a86ed3f2-399e-4ee1-db58-67495afaa511"
      },
      "execution_count": 43,
      "outputs": [
        {
          "output_type": "execute_result",
          "data": {
            "text/plain": [
              "DecisionTreeClassifier(max_depth=5, min_samples_leaf=5, random_state=100)"
            ]
          },
          "metadata": {},
          "execution_count": 43
        }
      ]
    },
    {
      "cell_type": "code",
      "source": [
        "#Testing Decision Tree Model\n",
        "y_pred = dt.predict(x_test)\n",
        "y_pred"
      ],
      "metadata": {
        "id": "BqiFHRzOrZnv",
        "colab": {
          "base_uri": "https://localhost:8080/"
        },
        "outputId": "8e7339b7-1705-494d-ce38-3743e13c2b9b"
      },
      "execution_count": 44,
      "outputs": [
        {
          "output_type": "execute_result",
          "data": {
            "text/plain": [
              "array([0, 0, 0, 0, 0, 0, 0, 0, 0, 0, 0, 0, 0, 0, 0, 0, 0, 0, 0, 1, 0, 0,\n",
              "       0, 0, 0, 0, 0, 0, 0, 0, 0, 0, 0, 0, 0, 0, 0, 0, 0, 0, 0, 0, 0, 0,\n",
              "       0, 0, 0, 0, 0, 0, 0, 0, 0, 0, 0, 0, 0, 0, 0, 0, 0, 0, 0, 0, 0, 0,\n",
              "       0, 0, 0, 0, 0, 0, 0, 1, 0, 0, 0, 0, 0, 0, 0, 0, 0, 0, 0, 0, 1, 0,\n",
              "       0, 1, 0, 0, 1, 0, 0, 0, 0, 0, 0, 0, 0, 0, 0, 0, 0, 0, 0, 0, 0, 0,\n",
              "       0, 0, 0, 0, 0, 0, 0, 0, 0, 0, 0, 0, 0, 0, 0, 0, 0, 0, 0, 0, 0, 0,\n",
              "       0, 0, 0, 0, 0, 0, 0, 0, 0, 0, 0, 0, 0, 0, 0, 0, 0, 0, 0, 0, 0, 0,\n",
              "       0, 0, 0, 0, 0, 0, 0, 0, 0, 0, 0, 0, 0, 0, 0, 0, 0, 0, 0, 0, 0, 0,\n",
              "       0, 0, 0, 0, 0, 0, 0, 0, 0, 0, 0, 0, 0, 0, 0, 0, 0, 0, 0, 0, 0, 0,\n",
              "       0, 0, 0, 0, 0, 0, 0, 0, 0, 0, 0, 0, 0, 0, 0, 0, 0, 0, 0, 0, 0, 0,\n",
              "       0, 0, 0, 1, 0, 0, 0, 0, 0, 0, 0, 0, 0, 0, 0, 0, 0, 0, 0, 0, 0, 0,\n",
              "       0, 0, 0, 0, 0, 0, 0, 0, 0, 0, 1, 0, 0, 0, 0, 0, 0, 0, 0, 0, 0, 0,\n",
              "       0, 0, 0, 0, 0, 0, 0, 1, 0, 0, 0, 0, 0, 0, 0, 0, 0, 0])"
            ]
          },
          "metadata": {},
          "execution_count": 44
        }
      ]
    },
    {
      "cell_type": "code",
      "source": [
        "np.array(y_test)"
      ],
      "metadata": {
        "colab": {
          "base_uri": "https://localhost:8080/"
        },
        "id": "uPsD07wHnEmR",
        "outputId": "08f8a0e0-13a7-4f3c-909b-29a65dfba22e"
      },
      "execution_count": 45,
      "outputs": [
        {
          "output_type": "execute_result",
          "data": {
            "text/plain": [
              "array([0, 0, 0, 0, 0, 0, 0, 0, 0, 0, 0, 0, 0, 0, 1, 0, 0, 0, 0, 0, 0, 0,\n",
              "       0, 0, 0, 0, 0, 0, 0, 1, 0, 0, 0, 0, 0, 0, 0, 0, 1, 0, 0, 0, 1, 0,\n",
              "       0, 0, 0, 0, 0, 0, 0, 0, 0, 0, 0, 1, 0, 0, 0, 1, 0, 0, 0, 1, 0, 0,\n",
              "       0, 0, 0, 1, 0, 0, 0, 0, 0, 0, 0, 0, 0, 0, 0, 0, 0, 0, 0, 0, 0, 0,\n",
              "       1, 0, 0, 0, 0, 0, 0, 0, 1, 0, 0, 0, 0, 0, 0, 0, 0, 0, 0, 0, 0, 0,\n",
              "       0, 0, 0, 0, 0, 0, 0, 0, 0, 1, 0, 0, 0, 0, 0, 0, 0, 0, 0, 0, 0, 0,\n",
              "       0, 0, 0, 0, 0, 0, 0, 0, 0, 0, 0, 0, 0, 0, 0, 0, 1, 0, 0, 0, 0, 0,\n",
              "       1, 1, 0, 0, 0, 1, 0, 0, 1, 0, 0, 0, 0, 0, 0, 1, 0, 0, 1, 0, 0, 0,\n",
              "       0, 0, 0, 0, 0, 0, 0, 1, 0, 0, 0, 0, 1, 0, 0, 0, 0, 0, 0, 1, 0, 0,\n",
              "       1, 0, 1, 1, 1, 0, 0, 1, 0, 0, 0, 0, 1, 0, 0, 0, 0, 0, 1, 0, 0, 0,\n",
              "       0, 1, 0, 1, 0, 1, 0, 0, 0, 0, 0, 0, 1, 0, 0, 0, 0, 1, 0, 0, 0, 1,\n",
              "       1, 0, 0, 0, 1, 0, 1, 1, 0, 1, 1, 0, 0, 0, 0, 0, 0, 0, 0, 0, 0, 0,\n",
              "       0, 0, 0, 0, 1, 0, 0, 0, 0, 0, 0, 0, 0, 0, 0, 0, 0, 0])"
            ]
          },
          "metadata": {},
          "execution_count": 45
        }
      ]
    },
    {
      "cell_type": "code",
      "source": [
        "#Model Evaluation Decision Tree\n",
        "#Confusion Matrix Decision Tree Visualize\n",
        "dt_cm = confusion_matrix(y_pred, y_test, labels=dt.classes_)\n",
        "disp = ConfusionMatrixDisplay(confusion_matrix=dt_cm,display_labels=dt.classes_)\n",
        "disp.plot(cmap=plt.cm.hot)\n",
        "plt.show()"
      ],
      "metadata": {
        "colab": {
          "base_uri": "https://localhost:8080/",
          "height": 279
        },
        "id": "dlNLeYMHfmjA",
        "outputId": "aadcca1d-f8d5-454e-9797-96658b337296"
      },
      "execution_count": 46,
      "outputs": [
        {
          "output_type": "display_data",
          "data": {
            "text/plain": [
              "<Figure size 432x288 with 2 Axes>"
            ],
            "image/png": "[encoded data removed]"
          },
          "metadata": {
            "needs_background": "light"
          }
        }
      ]
    },
    {
      "cell_type": "code",
      "source": [
        "#Classification Report Model Decision Tree\n",
        "print(\"Classification report matrix : \\n\", classification_report(y_pred, y_test))"
      ],
      "metadata": {
        "id": "UhfkIouHrd5z",
        "colab": {
          "base_uri": "https://localhost:8080/"
        },
        "outputId": "8133b305-7dfe-46ce-dc08-bbe0a52c6039"
      },
      "execution_count": 47,
      "outputs": [
        {
          "output_type": "stream",
          "name": "stdout",
          "text": [
            "Classification report matrix : \n",
            "               precision    recall  f1-score   support\n",
            "\n",
            "           0       0.98      0.86      0.91       274\n",
            "           1       0.05      0.25      0.08         8\n",
            "\n",
            "    accuracy                           0.84       282\n",
            "   macro avg       0.51      0.55      0.50       282\n",
            "weighted avg       0.95      0.84      0.89       282\n",
            "\n"
          ]
        }
      ]
    },
    {
      "cell_type": "code",
      "source": [
        "#Accuracy Check Model Decision Tree\n",
        "print(accuracy_score(y_pred, y_test))"
      ],
      "metadata": {
        "id": "zcRHhX5gsKSx",
        "colab": {
          "base_uri": "https://localhost:8080/"
        },
        "outputId": "d45b0dc7-84d0-4547-c264-a65c29a47a93"
      },
      "execution_count": 48,
      "outputs": [
        {
          "output_type": "stream",
          "name": "stdout",
          "text": [
            "0.8404255319148937\n"
          ]
        }
      ]
    },
    {
      "cell_type": "markdown",
      "source": [
        "**Naive Bayes**"
      ],
      "metadata": {
        "id": "ZXhxfl0CzC-V"
      }
    },
    {
      "cell_type": "code",
      "source": [
        "#Training Naive Bayes Model\n",
        "nb = GaussianNB()\n",
        "nb.fit(x_train, y_train)"
      ],
      "metadata": {
        "id": "XZcQ0DpKsVnE",
        "colab": {
          "base_uri": "https://localhost:8080/"
        },
        "outputId": "b599c4a2-e388-40db-84a4-dd11528085d7"
      },
      "execution_count": 49,
      "outputs": [
        {
          "output_type": "execute_result",
          "data": {
            "text/plain": [
              "GaussianNB()"
            ]
          },
          "metadata": {},
          "execution_count": 49
        }
      ]
    },
    {
      "cell_type": "code",
      "source": [
        "#Testing Naive Bayes Model\n",
        "y_pred = nb.predict(x_test)\n",
        "y_pred"
      ],
      "metadata": {
        "id": "LcgXXpLetPT2",
        "colab": {
          "base_uri": "https://localhost:8080/"
        },
        "outputId": "55cec130-d853-40c1-df34-bb7bfc06f586"
      },
      "execution_count": 50,
      "outputs": [
        {
          "output_type": "execute_result",
          "data": {
            "text/plain": [
              "array([0, 0, 0, 0, 0, 0, 0, 0, 0, 0, 0, 0, 0, 0, 0, 0, 0, 0, 0, 0, 0, 0,\n",
              "       0, 0, 0, 0, 0, 0, 0, 0, 0, 0, 0, 0, 0, 0, 0, 0, 0, 0, 0, 0, 1, 0,\n",
              "       0, 0, 0, 0, 0, 0, 1, 0, 0, 0, 0, 0, 0, 0, 0, 0, 0, 0, 0, 0, 0, 0,\n",
              "       0, 0, 0, 0, 0, 0, 0, 0, 0, 0, 0, 0, 0, 0, 0, 0, 0, 0, 0, 0, 0, 0,\n",
              "       0, 0, 0, 0, 0, 0, 0, 0, 0, 0, 0, 0, 0, 0, 0, 0, 0, 0, 0, 0, 0, 0,\n",
              "       0, 0, 0, 0, 0, 0, 0, 0, 0, 0, 0, 0, 0, 0, 0, 0, 0, 0, 0, 0, 0, 0,\n",
              "       0, 0, 0, 0, 0, 0, 0, 0, 0, 0, 0, 0, 0, 0, 0, 0, 0, 0, 0, 0, 0, 0,\n",
              "       0, 0, 0, 0, 0, 0, 0, 0, 0, 0, 0, 0, 0, 0, 0, 0, 0, 0, 0, 0, 0, 0,\n",
              "       0, 0, 0, 0, 0, 0, 0, 0, 0, 0, 0, 0, 0, 0, 0, 0, 0, 0, 0, 0, 0, 0,\n",
              "       0, 0, 0, 0, 0, 0, 0, 0, 0, 0, 0, 0, 0, 0, 0, 0, 0, 0, 0, 0, 0, 0,\n",
              "       0, 0, 0, 1, 0, 0, 0, 0, 0, 0, 0, 0, 0, 0, 0, 0, 0, 0, 0, 0, 0, 0,\n",
              "       0, 0, 0, 0, 0, 0, 0, 0, 0, 0, 0, 0, 0, 0, 0, 0, 0, 0, 0, 0, 0, 0,\n",
              "       0, 0, 0, 0, 0, 0, 0, 1, 0, 0, 0, 0, 0, 0, 0, 0, 0, 0])"
            ]
          },
          "metadata": {},
          "execution_count": 50
        }
      ]
    },
    {
      "cell_type": "code",
      "source": [
        "np.array(y_test)"
      ],
      "metadata": {
        "colab": {
          "base_uri": "https://localhost:8080/"
        },
        "id": "Pzhq6W3pnR1m",
        "outputId": "efd4ae11-39c1-4690-ab7f-ce63f03ced05"
      },
      "execution_count": 51,
      "outputs": [
        {
          "output_type": "execute_result",
          "data": {
            "text/plain": [
              "array([0, 0, 0, 0, 0, 0, 0, 0, 0, 0, 0, 0, 0, 0, 1, 0, 0, 0, 0, 0, 0, 0,\n",
              "       0, 0, 0, 0, 0, 0, 0, 1, 0, 0, 0, 0, 0, 0, 0, 0, 1, 0, 0, 0, 1, 0,\n",
              "       0, 0, 0, 0, 0, 0, 0, 0, 0, 0, 0, 1, 0, 0, 0, 1, 0, 0, 0, 1, 0, 0,\n",
              "       0, 0, 0, 1, 0, 0, 0, 0, 0, 0, 0, 0, 0, 0, 0, 0, 0, 0, 0, 0, 0, 0,\n",
              "       1, 0, 0, 0, 0, 0, 0, 0, 1, 0, 0, 0, 0, 0, 0, 0, 0, 0, 0, 0, 0, 0,\n",
              "       0, 0, 0, 0, 0, 0, 0, 0, 0, 1, 0, 0, 0, 0, 0, 0, 0, 0, 0, 0, 0, 0,\n",
              "       0, 0, 0, 0, 0, 0, 0, 0, 0, 0, 0, 0, 0, 0, 0, 0, 1, 0, 0, 0, 0, 0,\n",
              "       1, 1, 0, 0, 0, 1, 0, 0, 1, 0, 0, 0, 0, 0, 0, 1, 0, 0, 1, 0, 0, 0,\n",
              "       0, 0, 0, 0, 0, 0, 0, 1, 0, 0, 0, 0, 1, 0, 0, 0, 0, 0, 0, 1, 0, 0,\n",
              "       1, 0, 1, 1, 1, 0, 0, 1, 0, 0, 0, 0, 1, 0, 0, 0, 0, 0, 1, 0, 0, 0,\n",
              "       0, 1, 0, 1, 0, 1, 0, 0, 0, 0, 0, 0, 1, 0, 0, 0, 0, 1, 0, 0, 0, 1,\n",
              "       1, 0, 0, 0, 1, 0, 1, 1, 0, 1, 1, 0, 0, 0, 0, 0, 0, 0, 0, 0, 0, 0,\n",
              "       0, 0, 0, 0, 1, 0, 0, 0, 0, 0, 0, 0, 0, 0, 0, 0, 0, 0])"
            ]
          },
          "metadata": {},
          "execution_count": 51
        }
      ]
    },
    {
      "cell_type": "code",
      "source": [
        "#Model Evaluation Naive Bayes\n",
        "#Confusion Matrix Decision Tree Visualize\n",
        "nb_cm = confusion_matrix(y_pred, y_test, labels=nb.classes_)\n",
        "disp = ConfusionMatrixDisplay(confusion_matrix=nb_cm,display_labels=nb.classes_)\n",
        "disp.plot(cmap=plt.cm.hot)\n",
        "plt.show()"
      ],
      "metadata": {
        "id": "VcZlAzdNtSd9",
        "colab": {
          "base_uri": "https://localhost:8080/",
          "height": 279
        },
        "outputId": "962c72f4-496e-46df-994a-7e68a675aba2"
      },
      "execution_count": 52,
      "outputs": [
        {
          "output_type": "display_data",
          "data": {
            "text/plain": [
              "<Figure size 432x288 with 2 Axes>"
            ],
            "image/png": "[encoded data removed]"
          },
          "metadata": {
            "needs_background": "light"
          }
        }
      ]
    },
    {
      "cell_type": "code",
      "source": [
        "#Classification Report Model Decision Tree\n",
        "print(\"Classification report matrix : \\n\", classification_report(y_pred, y_test))"
      ],
      "metadata": {
        "colab": {
          "base_uri": "https://localhost:8080/"
        },
        "id": "z1gzElltftCN",
        "outputId": "b3b14286-8ea3-4f47-ce0a-df37115ce743"
      },
      "execution_count": 53,
      "outputs": [
        {
          "output_type": "stream",
          "name": "stdout",
          "text": [
            "Classification report matrix : \n",
            "               precision    recall  f1-score   support\n",
            "\n",
            "           0       0.99      0.86      0.92       278\n",
            "           1       0.05      0.50      0.09         4\n",
            "\n",
            "    accuracy                           0.85       282\n",
            "   macro avg       0.52      0.68      0.50       282\n",
            "weighted avg       0.98      0.85      0.91       282\n",
            "\n"
          ]
        }
      ]
    },
    {
      "cell_type": "code",
      "source": [
        "#Accuracy Check Model Naive Bayes\n",
        "print(accuracy_score(y_pred, y_test))"
      ],
      "metadata": {
        "id": "5JGgJI2otTgU",
        "colab": {
          "base_uri": "https://localhost:8080/"
        },
        "outputId": "0cf8eb61-2730-4663-b0a6-7f26c71e95d6"
      },
      "execution_count": 54,
      "outputs": [
        {
          "output_type": "stream",
          "name": "stdout",
          "text": [
            "0.8546099290780141\n"
          ]
        }
      ]
    },
    {
      "cell_type": "markdown",
      "source": [
        "**K-Nearest Neighbor**"
      ],
      "metadata": {
        "id": "SLsJV9C2zegB"
      }
    },
    {
      "cell_type": "code",
      "source": [
        "error_rate = []\n",
        "for i in range(1,15):\n",
        "  knn = KNeighborsClassifier(n_neighbors=i)\n",
        "  knn.fit(x_train,y_train)\n",
        "  pred_i = knn.predict(x_test)\n",
        "  error_rate.append(np.mean(pred_i != y_test))"
      ],
      "metadata": {
        "id": "vp0jYhtefv0g"
      },
      "execution_count": 55,
      "outputs": []
    },
    {
      "cell_type": "code",
      "source": [
        "plt.figure(figsize=(10,6))\n",
        "plt.plot(range(1,15),error_rate,color='black', marker='o', markerfacecolor='red', markersize=5)\n",
        "plt.title('Error Rate vs. K Value')\n",
        "plt.xlabel('K')\n",
        "plt.ylabel('Error Rate')"
      ],
      "metadata": {
        "colab": {
          "base_uri": "https://localhost:8080/",
          "height": 421
        },
        "id": "9SpqWP7BfyPD",
        "outputId": "8afb0eb4-2bf9-4cb4-bc2e-d2a710cf15e4"
      },
      "execution_count": 56,
      "outputs": [
        {
          "output_type": "execute_result",
          "data": {
            "text/plain": [
              "Text(0, 0.5, 'Error Rate')"
            ]
          },
          "metadata": {},
          "execution_count": 56
        },
        {
          "output_type": "display_data",
          "data": {
            "text/plain": [
              "<Figure size 720x432 with 1 Axes>"
            ],
            "image/png": "[encoded data removed]"
          },
          "metadata": {
            "needs_background": "light"
          }
        }
      ]
    },
    {
      "cell_type": "code",
      "source": [
        "#Training KNN Model\n",
        "knn = KNeighborsClassifier(n_neighbors = 6)\n",
        "knn.fit(x_train, y_train)"
      ],
      "metadata": {
        "id": "426oyva1tqXW",
        "colab": {
          "base_uri": "https://localhost:8080/"
        },
        "outputId": "2f333df5-4f5f-4cc5-c8c1-89c1cad85e89"
      },
      "execution_count": 57,
      "outputs": [
        {
          "output_type": "execute_result",
          "data": {
            "text/plain": [
              "KNeighborsClassifier(n_neighbors=6)"
            ]
          },
          "metadata": {},
          "execution_count": 57
        }
      ]
    },
    {
      "cell_type": "code",
      "source": [
        "#Testing KNN Model\n",
        "y_pred = knn.predict(x_test)\n",
        "y_pred"
      ],
      "metadata": {
        "id": "f6Opor7rtsza",
        "colab": {
          "base_uri": "https://localhost:8080/"
        },
        "outputId": "e2cd959e-b3a5-4325-e05b-8ae2e435aa28"
      },
      "execution_count": 58,
      "outputs": [
        {
          "output_type": "execute_result",
          "data": {
            "text/plain": [
              "array([0, 0, 0, 0, 0, 0, 0, 0, 0, 0, 0, 0, 0, 0, 0, 0, 0, 0, 0, 0, 0, 0,\n",
              "       0, 0, 0, 0, 0, 0, 0, 0, 0, 0, 0, 0, 0, 0, 0, 0, 0, 0, 0, 0, 0, 0,\n",
              "       0, 0, 0, 0, 0, 0, 0, 0, 0, 0, 0, 0, 0, 0, 0, 0, 0, 0, 0, 0, 0, 0,\n",
              "       0, 0, 0, 0, 0, 0, 0, 0, 0, 0, 0, 0, 0, 0, 0, 0, 0, 0, 0, 0, 0, 0,\n",
              "       0, 0, 0, 0, 0, 0, 0, 0, 0, 0, 0, 0, 0, 0, 0, 0, 0, 0, 0, 0, 0, 0,\n",
              "       0, 0, 0, 0, 0, 0, 0, 0, 0, 0, 0, 0, 0, 0, 0, 0, 0, 0, 0, 0, 0, 0,\n",
              "       0, 0, 0, 0, 0, 0, 0, 0, 0, 0, 0, 0, 0, 0, 0, 0, 0, 0, 0, 0, 0, 0,\n",
              "       0, 0, 0, 0, 0, 0, 0, 0, 0, 0, 0, 0, 0, 0, 0, 0, 0, 0, 0, 0, 0, 0,\n",
              "       0, 0, 0, 0, 0, 0, 0, 0, 0, 0, 0, 0, 0, 0, 0, 0, 0, 0, 0, 0, 0, 0,\n",
              "       0, 0, 0, 0, 0, 0, 0, 0, 0, 0, 0, 0, 0, 0, 0, 0, 0, 0, 0, 0, 0, 0,\n",
              "       0, 0, 0, 0, 0, 0, 0, 0, 0, 0, 0, 0, 0, 0, 0, 0, 0, 0, 0, 0, 0, 0,\n",
              "       0, 0, 0, 0, 0, 0, 0, 0, 0, 0, 1, 0, 0, 0, 0, 0, 0, 0, 0, 0, 0, 0,\n",
              "       0, 0, 0, 0, 0, 0, 0, 0, 0, 0, 0, 0, 0, 0, 0, 0, 0, 0])"
            ]
          },
          "metadata": {},
          "execution_count": 58
        }
      ]
    },
    {
      "cell_type": "code",
      "source": [
        "np.array(y_test)"
      ],
      "metadata": {
        "colab": {
          "base_uri": "https://localhost:8080/"
        },
        "id": "wkZ9XahdncVo",
        "outputId": "65c2c095-dece-412f-d595-d353d6c3fe1e"
      },
      "execution_count": 59,
      "outputs": [
        {
          "output_type": "execute_result",
          "data": {
            "text/plain": [
              "array([0, 0, 0, 0, 0, 0, 0, 0, 0, 0, 0, 0, 0, 0, 1, 0, 0, 0, 0, 0, 0, 0,\n",
              "       0, 0, 0, 0, 0, 0, 0, 1, 0, 0, 0, 0, 0, 0, 0, 0, 1, 0, 0, 0, 1, 0,\n",
              "       0, 0, 0, 0, 0, 0, 0, 0, 0, 0, 0, 1, 0, 0, 0, 1, 0, 0, 0, 1, 0, 0,\n",
              "       0, 0, 0, 1, 0, 0, 0, 0, 0, 0, 0, 0, 0, 0, 0, 0, 0, 0, 0, 0, 0, 0,\n",
              "       1, 0, 0, 0, 0, 0, 0, 0, 1, 0, 0, 0, 0, 0, 0, 0, 0, 0, 0, 0, 0, 0,\n",
              "       0, 0, 0, 0, 0, 0, 0, 0, 0, 1, 0, 0, 0, 0, 0, 0, 0, 0, 0, 0, 0, 0,\n",
              "       0, 0, 0, 0, 0, 0, 0, 0, 0, 0, 0, 0, 0, 0, 0, 0, 1, 0, 0, 0, 0, 0,\n",
              "       1, 1, 0, 0, 0, 1, 0, 0, 1, 0, 0, 0, 0, 0, 0, 1, 0, 0, 1, 0, 0, 0,\n",
              "       0, 0, 0, 0, 0, 0, 0, 1, 0, 0, 0, 0, 1, 0, 0, 0, 0, 0, 0, 1, 0, 0,\n",
              "       1, 0, 1, 1, 1, 0, 0, 1, 0, 0, 0, 0, 1, 0, 0, 0, 0, 0, 1, 0, 0, 0,\n",
              "       0, 1, 0, 1, 0, 1, 0, 0, 0, 0, 0, 0, 1, 0, 0, 0, 0, 1, 0, 0, 0, 1,\n",
              "       1, 0, 0, 0, 1, 0, 1, 1, 0, 1, 1, 0, 0, 0, 0, 0, 0, 0, 0, 0, 0, 0,\n",
              "       0, 0, 0, 0, 1, 0, 0, 0, 0, 0, 0, 0, 0, 0, 0, 0, 0, 0])"
            ]
          },
          "metadata": {},
          "execution_count": 59
        }
      ]
    },
    {
      "cell_type": "code",
      "source": [
        "#Model Evaluation KNN\n",
        "#Confusion Matrix Decision Tree Visualize\n",
        "knn_cm = confusion_matrix(y_pred, y_test, labels=knn.classes_)\n",
        "disp = ConfusionMatrixDisplay(confusion_matrix=knn_cm,display_labels=knn.classes_)\n",
        "disp.plot(cmap=plt.cm.hot)\n",
        "plt.show()"
      ],
      "metadata": {
        "id": "L1shIWlktuIp",
        "colab": {
          "base_uri": "https://localhost:8080/",
          "height": 279
        },
        "outputId": "232357d5-b0ab-47ba-ec9a-cc07a6e8de07"
      },
      "execution_count": 60,
      "outputs": [
        {
          "output_type": "display_data",
          "data": {
            "text/plain": [
              "<Figure size 432x288 with 2 Axes>"
            ],
            "image/png": "[encoded data removed]"
          },
          "metadata": {
            "needs_background": "light"
          }
        }
      ]
    },
    {
      "cell_type": "code",
      "source": [
        "print(\"Classification report matrix : \\n\", classification_report(y_pred, y_test))"
      ],
      "metadata": {
        "colab": {
          "base_uri": "https://localhost:8080/"
        },
        "id": "43f249Cnf-Q7",
        "outputId": "4c3a7a80-70e9-4b6f-8056-6b472c24b2da"
      },
      "execution_count": 61,
      "outputs": [
        {
          "output_type": "stream",
          "name": "stdout",
          "text": [
            "Classification report matrix : \n",
            "               precision    recall  f1-score   support\n",
            "\n",
            "           0       1.00      0.86      0.92       281\n",
            "           1       0.02      1.00      0.05         1\n",
            "\n",
            "    accuracy                           0.86       282\n",
            "   macro avg       0.51      0.93      0.49       282\n",
            "weighted avg       1.00      0.86      0.92       282\n",
            "\n"
          ]
        }
      ]
    },
    {
      "cell_type": "code",
      "source": [
        "#Accuracy Check Model KNN\n",
        "print(accuracy_score(y_pred, y_test))"
      ],
      "metadata": {
        "id": "C5szzXiFt0gk",
        "colab": {
          "base_uri": "https://localhost:8080/"
        },
        "outputId": "0d49918e-fb1a-49b1-c14a-333e49bd8de9"
      },
      "execution_count": 62,
      "outputs": [
        {
          "output_type": "stream",
          "name": "stdout",
          "text": [
            "0.8581560283687943\n"
          ]
        }
      ]
    },
    {
      "cell_type": "code",
      "source": [],
      "metadata": {
        "id": "d7_7lDyzvxJX"
      },
      "execution_count": 63,
      "outputs": []
    }
  ]
}